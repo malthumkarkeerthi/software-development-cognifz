{
 "cells": [
  {
   "cell_type": "code",
   "execution_count": null,
   "id": "e208c925",
   "metadata": {},
   "outputs": [
    {
     "name": "stdout",
     "output_type": "stream",
     "text": [
      "\n",
      "Task Management Application\n",
      "1. Create Task\n",
      "2. Read Tasks\n",
      "3. Update Task\n",
      "4. Delete Task\n",
      "5. Exit\n"
     ]
    }
   ],
   "source": [
    "import os\n",
    "import pickle\n",
    "\n",
    "class Task:\n",
    "    def __init__(self, id, description):\n",
    "        self.id = id\n",
    "        self.description = description\n",
    "\n",
    "class TaskManager:\n",
    "    def __init__(self):\n",
    "        self.tasks = []\n",
    "        self.file_path = \"tasks_data.pkl\"\n",
    "\n",
    "    def save_tasks_to_file(self):\n",
    "        with open(self.file_path, 'wb') as file:\n",
    "            pickle.dump(self.tasks, file)\n",
    "\n",
    "    def load_tasks_from_file(self):\n",
    "        if os.path.exists(self.file_path):\n",
    "            with open(self.file_path, 'rb') as file:\n",
    "                self.tasks = pickle.load(file)\n",
    "\n",
    "    # Other methods (create_task, read_tasks, update_task, delete_task) go here...\n",
    "\n",
    "def main():\n",
    "    task_manager = TaskManager()\n",
    "    task_manager.load_tasks_from_file()\n",
    "\n",
    "    while True:\n",
    "        print(\"\\nTask Management Application\")\n",
    "        print(\"1. Create Task\")\n",
    "        print(\"2. Read Tasks\")\n",
    "        print(\"3. Update Task\")\n",
    "        print(\"4. Delete Task\")\n",
    "        print(\"5. Exit\")\n",
    "\n",
    "        choice = input(\"Enter your choice: \")\n",
    "\n",
    "        if choice == '1':\n",
    "            description = input(\"Enter task description: \")\n",
    "            task_manager.create_task(description)\n",
    "        elif choice == '2':\n",
    "            task_manager.read_tasks()\n",
    "        elif choice == '3':\n",
    "            task_id = int(input(\"Enter task ID to update: \"))\n",
    "            new_description = input(\"Enter new task description: \")\n",
    "            if not task_manager.update_task(task_id, new_description):\n",
    "                print(\"Task not found!\")\n",
    "        elif choice == '4':\n",
    "            task_id = int(input(\"Enter task ID to delete: \"))\n",
    "            task_manager.delete_task(task_id)\n",
    "        elif choice == '5':\n",
    "            print(\"Exiting the program. Goodbye!\")\n",
    "            break\n",
    "        else:\n",
    "            print(\"Invalid choice. Please enter 1-5.\")\n",
    "\n",
    "if __name__ == \"__main__\":\n",
    "    main()"
   ]
  },
  {
   "cell_type": "code",
   "execution_count": null,
   "id": "118bdfe4",
   "metadata": {},
   "outputs": [],
   "source": []
  }
 ],
 "metadata": {
  "kernelspec": {
   "display_name": "Python 3 (ipykernel)",
   "language": "python",
   "name": "python3"
  },
  "language_info": {
   "codemirror_mode": {
    "name": "ipython",
    "version": 3
   },
   "file_extension": ".py",
   "mimetype": "text/x-python",
   "name": "python",
   "nbconvert_exporter": "python",
   "pygments_lexer": "ipython3",
   "version": "3.9.13"
  }
 },
 "nbformat": 4,
 "nbformat_minor": 5
}
