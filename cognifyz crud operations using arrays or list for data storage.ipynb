{
 "cells": [
  {
   "cell_type": "code",
   "execution_count": 23,
   "id": "1d52f8b8",
   "metadata": {},
   "outputs": [],
   "source": [
    "my_list = [\"apple\", \"banana\", \"cherry\"]\n",
    "from array import array\n",
    "my_array = array(\"i\", [1, 2, 3])"
   ]
  },
  {
   "cell_type": "code",
   "execution_count": 24,
   "id": "a1f08201",
   "metadata": {},
   "outputs": [
    {
     "name": "stdout",
     "output_type": "stream",
     "text": [
      "apple\n",
      "2\n"
     ]
    }
   ],
   "source": [
    "print(my_list[0])  # Output: \"apple\"\n",
    "print(my_array[1])  # Output: 2"
   ]
  },
  {
   "cell_type": "code",
   "execution_count": 25,
   "id": "9865af5e",
   "metadata": {},
   "outputs": [],
   "source": [
    "my_list[1] = \"grape\"\n",
    "my_array[0] = 10"
   ]
  },
  {
   "cell_type": "code",
   "execution_count": 22,
   "id": "4e3ff25d",
   "metadata": {},
   "outputs": [
    {
     "data": {
      "text/plain": [
       "2"
      ]
     },
     "execution_count": 22,
     "metadata": {},
     "output_type": "execute_result"
    }
   ],
   "source": [
    "del my_list[2]  # Removes \"cherry\"\n",
    "my_array.pop(1)  # Removes the second element (2)"
   ]
  }
 ],
 "metadata": {
  "kernelspec": {
   "display_name": "Python 3 (ipykernel)",
   "language": "python",
   "name": "python3"
  },
  "language_info": {
   "codemirror_mode": {
    "name": "ipython",
    "version": 3
   },
   "file_extension": ".py",
   "mimetype": "text/x-python",
   "name": "python",
   "nbconvert_exporter": "python",
   "pygments_lexer": "ipython3",
   "version": "3.9.13"
  }
 },
 "nbformat": 4,
 "nbformat_minor": 5
}
