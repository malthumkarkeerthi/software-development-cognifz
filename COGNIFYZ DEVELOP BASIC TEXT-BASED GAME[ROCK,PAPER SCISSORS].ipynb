{
 "cells": [
  {
   "cell_type": "code",
   "execution_count": 3,
   "id": "714385b1",
   "metadata": {},
   "outputs": [],
   "source": [
    "def guessing_game(start, end):\n",
    "    number = random.randint(start, end)\n",
    "    guess = None\n",
    "    while guess != number:\n",
    "        guess = int(input(f\"Guess a number between {start} and {end}: \"))\n",
    "        if guess < number:\n",
    "            print(\"Too low!\")\n",
    "        elif guess > number:\n",
    "            print(\"Too high!\")\n",
    "    print(\"Congratulations! You guessed the number!\")"
   ]
  },
  {
   "cell_type": "code",
   "execution_count": null,
   "id": "991a5402",
   "metadata": {},
   "outputs": [
    {
     "name": "stdout",
     "output_type": "stream",
     "text": [
      "Enter your choice (rock, paper, scissors): rock\n",
      "Computer chose paper\n",
      "Computer wins!\n",
      "Play again? (yes/no): yes\n",
      "Enter your choice (rock, paper, scissors): scissors\n",
      "Computer chose rock\n",
      "Computer wins!\n"
     ]
    }
   ],
   "source": [
    "import random\n",
    "\n",
    "def get_user_choice():\n",
    "    return input(\"Enter your choice (rock, paper, scissors): \").lower()\n",
    "\n",
    "def get_computer_choice():\n",
    "    choices = [\"rock\", \"paper\", \"scissors\"]\n",
    "    return random.choice(choices)\n",
    "\n",
    "def determine_winner(user_choice, computer_choice):\n",
    "    if user_choice == computer_choice:\n",
    "        return \"It's a tie!\"\n",
    "    elif (\n",
    "        (user_choice == \"rock\" and computer_choice == \"scissors\") or\n",
    "        (user_choice == \"paper\" and computer_choice == \"rock\") or\n",
    "        (user_choice == \"scissors\" and computer_choice == \"paper\")\n",
    "    ):\n",
    "        return \"You win!\"\n",
    "    else:\n",
    "        return \"Computer wins!\"\n",
    "\n",
    "def main():\n",
    "    user_wins = 0\n",
    "    computer_wins = 0\n",
    "\n",
    "    while True:\n",
    "        user_choice = get_user_choice()\n",
    "        computer_choice = get_computer_choice()\n",
    "\n",
    "        print(f\"Computer chose {computer_choice}\")\n",
    "        result = determine_winner(user_choice, computer_choice)\n",
    "        print(result)\n",
    "\n",
    "        if result == \"You win!\":\n",
    "            user_wins += 1\n",
    "        elif result == \"Computer wins!\":\n",
    "            computer_wins += 1\n",
    "\n",
    "        play_again = input(\"Play again? (yes/no): \").lower()\n",
    "        if play_again != \"yes\":\n",
    "            break\n",
    "\n",
    "    print(f\"Final score: You {user_wins} - Computer {computer_wins}\")\n",
    "\n",
    "if __name__ == \"__main__\":\n",
    "    main()"
   ]
  },
  {
   "cell_type": "code",
   "execution_count": null,
   "id": "f1b0778e",
   "metadata": {},
   "outputs": [],
   "source": []
  }
 ],
 "metadata": {
  "kernelspec": {
   "display_name": "Python 3 (ipykernel)",
   "language": "python",
   "name": "python3"
  },
  "language_info": {
   "codemirror_mode": {
    "name": "ipython",
    "version": 3
   },
   "file_extension": ".py",
   "mimetype": "text/x-python",
   "name": "python",
   "nbconvert_exporter": "python",
   "pygments_lexer": "ipython3",
   "version": "3.9.13"
  }
 },
 "nbformat": 4,
 "nbformat_minor": 5
}
